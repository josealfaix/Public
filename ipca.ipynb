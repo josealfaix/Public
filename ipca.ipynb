{
 "cells": [
  {
   "cell_type": "code",
   "execution_count": null,
   "metadata": {},
   "outputs": [],
   "source": [
    "import pandas as pd\n",
    "import numpy as np \n",
    "import matplotlib.pyplot as plt\n",
    "from bcb import sgs\n",
    "import seaborn as sns\n",
    "from statsmodels.tsa.seasonal import seasonal_decompose\n",
    "import matplotlib.dates as mdates\n",
    "from matplotlib.dates import DateFormatter"
   ]
  },
  {
   "cell_type": "markdown",
   "metadata": {},
   "source": [
    "#### Dados gerais - IPCA mensal e acumulado "
   ]
  },
  {
   "cell_type": "code",
   "execution_count": null,
   "metadata": {},
   "outputs": [],
   "source": [
    "#IPCA - variação mensal\n",
    "ipca = sgs.get({'IPCA':433},start = \"2013-02-02\")\n",
    "ipca.reset_index(inplace=True)\n",
    "\n",
    "df_ipca = pd.DataFrame(ipca)\n",
    "print(df_ipca)"
   ]
  },
  {
   "cell_type": "markdown",
   "metadata": {},
   "source": [
    "#### Pegando Meta e limites - IPCA  "
   ]
  },
  {
   "cell_type": "code",
   "execution_count": null,
   "metadata": {},
   "outputs": [],
   "source": [
    "df_meta = sgs.get({'Meta':13521}, start = '2013-02-02')\n",
    "\n",
    "df_meta = df_meta.reset_index()\n",
    "\n",
    "data_mensal = [] \n",
    "\n",
    "for _, row in df_meta.iterrows():\n",
    "    ano = row['Date']\n",
    "    meta = row['Meta']\n",
    "    \n",
    "    for mes in range(1, 13):  \n",
    "        data_mensal.append({\n",
    "            'Date': pd.Timestamp(f'{ano}-{mes:02d}-01'),\n",
    "            'Meta': meta})\n",
    "\n",
    "df_meta_mensal = pd.DataFrame(data_mensal)\n",
    "df_meta_mensal = df_meta_mensal.drop(columns=['Date'])\n",
    "\n",
    "df_meta_mensal['Limite superior'] = df_meta_mensal['Meta'] +1.5\n",
    "df_meta_mensal['Limite inferior'] = df_meta_mensal['Meta'] -1.5\n",
    "\n",
    "print(df_meta_mensal.tail(50))"
   ]
  },
  {
   "cell_type": "code",
   "execution_count": null,
   "metadata": {},
   "outputs": [],
   "source": [
    "#IPCA acumulado 12 meses - Janela móvel \n",
    "ipca_12m = ipca['IPCA'].rolling(12).apply(lambda x: (1+x/100).prod()-1).dropna()*100\n",
    "ipca_12m = round(ipca_12m,2)\n",
    "\n",
    "merged_ipca = pd.merge(ipca, ipca_12m, left_index=True, right_index=True)\n",
    "merged_ipca = merged_ipca.rename(columns={'IPCA_x': 'IPCA Mensal', \"IPCA_y\":'IPCA var 12m'})\n",
    "\n",
    "inflacao = pd.merge(merged_ipca, df_meta_mensal, left_index=True, right_index=True)\n",
    "\n",
    "print(inflacao.tail(10))\n"
   ]
  },
  {
   "cell_type": "code",
   "execution_count": null,
   "metadata": {},
   "outputs": [],
   "source": [
    "#Gráfico IPCA 12 meses \n",
    "plt.figure(figsize=(10, 6))\n",
    "\n",
    "plt.rcParams['font.family'] = 'Roc Grotesk' \n",
    "plt.title('Variação do IPCA - Acumulado 12 meses', fontsize=16)\n",
    "\n",
    "sns.lineplot(data=merged_ipca, x='Date', y='IPCA var 12m', color='limegreen', linewidth=2.5)\n",
    "plt.plot(inflacao['Date'], inflacao['Limite superior'], linestyle='--', color='gray')\n",
    "plt.plot(inflacao['Date'], inflacao['Limite inferior'], linestyle='--', color='gray')\n",
    "\n",
    "plt.grid(axis='y', color='gray', alpha=0.25)\n",
    "\n",
    "plt.gca().xaxis.set_major_formatter(DateFormatter('%b/%y'))\n",
    "plt.gca().xaxis.set_major_locator(mdates.MonthLocator(bymonth=[1, 7]))     \n",
    "plt.gcf().autofmt_xdate()\n",
    "\n",
    "plt.xlim(merged_ipca['Date'].min(), merged_ipca['Date'].max())\n",
    "\n",
    "plt.ylabel('Inflação (%)', fontsize=14)\n",
    "plt.xlabel('Data', fontsize=1)\n",
    "sns.despine()\n",
    "\n",
    "plt.show()"
   ]
  },
  {
   "cell_type": "markdown",
   "metadata": {},
   "source": [
    "#### Criando função que extrai as séries"
   ]
  },
  {
   "cell_type": "code",
   "execution_count": null,
   "metadata": {},
   "outputs": [],
   "source": [
    "#Função que servirá para pegar as séries\n",
    "\n",
    "def get_series(codigo, date):\n",
    "    df = sgs.get({codigo:codigo},start =date)\n",
    "\n",
    "    return df"
   ]
  },
  {
   "cell_type": "markdown",
   "metadata": {},
   "source": [
    "#### Componentes do IPCA"
   ]
  },
  {
   "cell_type": "code",
   "execution_count": null,
   "metadata": {},
   "outputs": [],
   "source": [
    "#Criar dicionário que armazena as séries abaixo - Componentes do IPCA\n",
    "\n",
    "data='2013-02-02'\n",
    "\n",
    "componentes_ipca = {\n",
    "    'Saúde e Cuidados pessoais': 1641,\n",
    "    'Alimentação e Bebidas': 1635,\n",
    "    'Habitação': 1636,\n",
    "    'Artigos de residência': 1637,  \n",
    "    'Vestuário': 1638,\n",
    "    'Transportes': 1639,\n",
    "    'Despesas pessoais': 1642,\n",
    "    'Comunicação': 1640,\n",
    "    'Educação': 1643  \n",
    "}\n",
    "\n",
    "df_componentes = pd.DataFrame()\n",
    "\n",
    "for nome, codigo in componentes_ipca.items():\n",
    "    df_componentes[nome] = get_series(codigo, data)\n",
    "\n",
    "#Variação mensal\n",
    "df_componentes = round(df_componentes,2)\n",
    "\n",
    "#Convertendo para variação anual\n",
    "df_componentes_ano = df_componentes.rolling(12).apply(lambda x: (1 + x / 100).prod() - 1).dropna() * 100\n",
    "df_componentes_ano = round(df_componentes_ano, 2)\n",
    "\n",
    "print(df_componentes_ano.tail(5))\n",
    "print(df_componentes.tail(5))"
   ]
  },
  {
   "cell_type": "code",
   "execution_count": null,
   "metadata": {},
   "outputs": [],
   "source": [
    "cores = ['green', 'lime','black','purple','blue','red','orange','gold','gray']\n",
    "\n",
    "plt.figure(figsize=(12,8))\n",
    "plt.ylim(-7,25)\n",
    "\n",
    "sns.set_style('white')  \n",
    "\n",
    "plt.rcParams['font.family'] = 'Aptos Narrow' \n",
    "\n",
    "#Plot da variação anual\n",
    "\n",
    "for i, coluna in enumerate(df_componentes_ano.columns):\n",
    "    sns.lineplot(data=df_componentes_ano, x=df_componentes_ano.index, y=coluna, color=cores[i], label=coluna)\n",
    "    plt.plot(inflacao['Date'], inflacao['Limite superior'], linestyle='--', color='gray')\n",
    "    plt.plot(inflacao['Date'], inflacao['Limite inferior'], linestyle='--', color='gray')\n",
    "\n",
    "plt.gca().xaxis.set_major_formatter(DateFormatter('%b/%y'))\n",
    "plt.gca().xaxis.set_major_locator(mdates.MonthLocator(bymonth=[1, 7]))     \n",
    "plt.gcf().autofmt_xdate()\n",
    "\n",
    "plt.xlim(df_componentes_ano.index.min(), df_componentes_ano.index.max())\n",
    "\n",
    "plt.grid(axis='y', color='gray', alpha=0.25)\n",
    "\n",
    "plt.title('IPCA - Componentes (var 12m)', fontsize=14)\n",
    "plt.ylabel('Inflação (%)',fontsize=12)\n",
    "plt.xlabel('Data', fontsize = 12)\n",
    "plt.legend(loc='upper left', fontsize='medium',bbox_to_anchor=(0.98,0.98))\n",
    "\n",
    "sns.despine()\n",
    "\n",
    "plt.show()"
   ]
  },
  {
   "cell_type": "code",
   "execution_count": null,
   "metadata": {},
   "outputs": [],
   "source": [
    "df_componentes_ano_bar = df_componentes_ano.iloc[-1]\n",
    "df_componentes_ano_bar_last = df_componentes_ano.iloc[-2]\n",
    "\n",
    "df_componentes_bar = df_componentes.iloc[-1]\n",
    "df_componentes_bar_last = df_componentes.iloc[-2]"
   ]
  },
  {
   "cell_type": "code",
   "execution_count": null,
   "metadata": {},
   "outputs": [],
   "source": [
    "nomes = [\n",
    "    'Saúde e\\nCuidados\\npessoais',\n",
    "    'Alimentação\\ne Bebidas',\n",
    "    'Habitação',\n",
    "    'Artigos de\\nresidência',\n",
    "    'Vestuário',\n",
    "    'Transportes',\n",
    "    'Despesas\\npessoais',\n",
    "    'Comunicação',\n",
    "    'Educação'\n",
    "]\n",
    "\n",
    "#PLOT para inflação dos componentes - Ano x Ano\n",
    "\n",
    "plt.figure(figsize=(10, 6))\n",
    "\n",
    "plt.rcParams['font.family'] = 'Roc Grotesk' \n",
    "\n",
    "bar_width = 0.35\n",
    "\n",
    "x = np.arange(len(df_componentes_ano_bar))\n",
    "\n",
    "bars = plt.bar(x, df_componentes_ano_bar.values, width=bar_width, color='limegreen', label='Inflação corrente')\n",
    "\n",
    "# Adicionando rótulos às barras\n",
    "for bar in bars:\n",
    "    height = bar.get_height()\n",
    "    plt.text(\n",
    "        bar.get_x() + bar.get_width()/2.0, \n",
    "        height + 0.2, \n",
    "        f'{height:.2f}', \n",
    "        ha='center', \n",
    "        va='bottom'\n",
    "    )\n",
    "\n",
    "plt.bar(x + 0.25, df_componentes_ano_bar_last.values, width=0.12, color='dimgrey', label='Inflação do mês anterior')\n",
    "plt.grid(axis='y', color='gray', alpha=0.25)\n",
    "\n",
    "plt.title('Inflação dos componentes - YoY', fontsize=16)\n",
    "plt.ylabel('IPCA (var 12m)', fontsize=14)\n",
    "plt.ylim(-1,10)\n",
    "\n",
    "plt.xticks(x + 0.225, nomes, rotation=0, fontsize = 10)\n",
    "\n",
    "plt.legend()\n",
    "\n",
    "plt.gca().spines['top'].set_visible(False)\n",
    "plt.gca().spines['right'].set_visible(False)\n",
    "\n",
    "plt.show()\n"
   ]
  },
  {
   "cell_type": "markdown",
   "metadata": {},
   "source": [
    "#### Núcleos do IPCA"
   ]
  },
  {
   "cell_type": "code",
   "execution_count": null,
   "metadata": {},
   "outputs": [],
   "source": [
    "#Criar dicionário que armazena as séries abaixo - Núcleos do IPCA\n",
    "nucleos_ipca = {\n",
    "    'IPCA EX0': 11427,\n",
    "    'IPCA DP': 16122,\n",
    "    'IPCA MS': 4466,\n",
    "    'IPCA EX3': 27839,\n",
    "    'IPCA P55': 28750, \n",
    "}\n",
    "\n",
    "df_nucleos = pd.DataFrame()\n",
    "df_nucleos_ano = pd.DataFrame()\n",
    "\n",
    "for nome, codigo in nucleos_ipca.items():\n",
    "    df_nucleos[nome] = get_series(codigo, data)\n",
    "\n",
    "#Variação mensal dos núcleos\n",
    "df_nucleos = round(df_nucleos,2)\n",
    "\n",
    "#Convertendo para variação anual\n",
    "df_nucleos_ano = df_nucleos.rolling(12).apply(lambda x: (1 + x / 100).prod() - 1).dropna() * 100\n",
    "df_nucleos_ano = round(df_nucleos_ano, 2)\n",
    "\n",
    "print(df_nucleos.tail(5))\n",
    "print(df_nucleos_ano.tail(5))"
   ]
  },
  {
   "cell_type": "code",
   "execution_count": null,
   "metadata": {},
   "outputs": [],
   "source": [
    "cores = ['lime','black','green','purple','gray']\n",
    "\n",
    "#PLOT - Variação dos núcleos - YoY\n",
    "\n",
    "plt.figure(figsize=(12,8))\n",
    "plt.ylim(0,12)\n",
    "\n",
    "sns.set_style('white')  \n",
    "\n",
    "plt.rcParams['font.family'] = 'Aptos Narrow' \n",
    "\n",
    "for i, coluna in enumerate(df_nucleos_ano.columns):\n",
    "    sns.lineplot(data=df_nucleos_ano, x='Date', y=coluna, color = cores[i],label=coluna, linewidth=1.6)\n",
    "    plt.plot(inflacao['Date'], inflacao['Limite superior'], linestyle='--', color='gray')\n",
    "    plt.plot(inflacao['Date'], inflacao['Limite inferior'], linestyle='--', color='gray')\n",
    "\n",
    "plt.grid(axis='y', color='gray', alpha=0.25)\n",
    "plt.gca().xaxis.set_major_formatter(DateFormatter('%b/%y'))   \n",
    "plt.gca().xaxis.set_major_locator(mdates.MonthLocator(bymonth=[1, 7]))     \n",
    "plt.gcf().autofmt_xdate()\n",
    "plt.xlim(df_nucleos_ano.min(), df_nucleos_ano.max())\n",
    "\n",
    "plt.title('Variação do IPCA (YoY) - Núcleos', fontsize=14)\n",
    "plt.ylabel('Inflação (%)',fontsize=12)\n",
    "plt.xlabel('Data', fontsize = 12)\n",
    "plt.legend(loc='upper right', fontsize='medium')\n",
    "\n",
    "sns.despine()\n",
    "\n",
    "plt.show()"
   ]
  },
  {
   "cell_type": "code",
   "execution_count": null,
   "metadata": {},
   "outputs": [],
   "source": [
    "df_nucleos_ano['Média']= (df_nucleos_ano['IPCA EX0'] + df_nucleos_ano['IPCA DP'] + df_nucleos_ano['IPCA MS'] + df_nucleos_ano['IPCA EX3'] + df_nucleos_ano['IPCA P55'])/5\n",
    "mean_nucleos = df_nucleos_ano['Média']\n",
    "std_nucleos = df_nucleos_ano['Média'].std()\n",
    "\n",
    "plt.figure(figsize=(12,8))\n",
    "\n",
    "plt.rcParams['font.family'] = 'Aptos Narrow' \n",
    "\n",
    "sns.set_style('white')  \n",
    "\n",
    "sns.lineplot(data=df_nucleos_ano, x='Date', y='Média',color='limegreen',linewidth=2.5,label='Média 5 núcleos')\n",
    "sns.lineplot(data=merged_ipca, x='Date', y='IPCA var 12m', color='black',linewidth=2.5,label='IPCA')\n",
    "\n",
    "plt.plot(inflacao['Date'], inflacao['Limite superior'], linestyle='--', color='gray')\n",
    "plt.plot(inflacao['Date'], inflacao['Limite inferior'], linestyle='--', color='gray')\n",
    "plt.grid(axis='y', color='gray', alpha=0.25)\n",
    "\n",
    "plt.gca().set_yticks(range(int(merged_ipca['IPCA var 12m'].min()), int(merged_ipca['IPCA var 12m'].max()) + 3, 1))\n",
    "plt.gca().xaxis.set_major_formatter(DateFormatter('%b/%y'))  \n",
    "plt.gca().xaxis.set_major_locator(mdates.MonthLocator(bymonth=[1, 7]))     \n",
    "plt.gcf().autofmt_xdate()\n",
    "plt.xlim(merged_ipca['Date'].min(), merged_ipca['Date'].max())\n",
    "\n",
    "plt.title('Variação em 12 meses encadeada - IPCA', fontsize=14)\n",
    "plt.ylabel('Inflação (%)',fontsize=12)\n",
    "plt.xlabel('Data', fontsize = 12)\n",
    "sns.despine()\n",
    "\n",
    "plt.show()\n"
   ]
  },
  {
   "cell_type": "markdown",
   "metadata": {},
   "source": [
    "#### Categorias de uso do IPCA"
   ]
  },
  {
   "cell_type": "code",
   "execution_count": null,
   "metadata": {},
   "outputs": [],
   "source": [
    "#Criar dicionário que armazena as séries abaixo - Categorias de uso do IPCA\n",
    "\n",
    "categorias_ipca = {\n",
    "    'Não duráveis': 10841,\n",
    "    'Semiduráveis': 10842,\n",
    "    'Duráveis': 10843,\n",
    "    'Serviços': 10844,\n",
    "}\n",
    "\n",
    "df_categorias = pd.DataFrame()\n",
    "df_categorias_ano = pd.DataFrame()\n",
    "\n",
    "for nome, codigo in categorias_ipca.items():\n",
    "    df_categorias[nome] = get_series(codigo, data)\n",
    "\n",
    "#Variação IPCA - mensal\n",
    "df_categorias = round(df_categorias,2)\n",
    "\n",
    "#Convertendo variação para anual\n",
    "df_categorias_ano = df_categorias.rolling(12).apply(lambda x: (1 + x / 100).prod() - 1).dropna() * 100\n",
    "df_categorias_ano = round(df_categorias_ano, 2)\n",
    "\n",
    "print(df_categorias.tail(5))\n",
    "print(df_categorias_ano.tail(5))"
   ]
  },
  {
   "cell_type": "code",
   "execution_count": null,
   "metadata": {},
   "outputs": [],
   "source": [
    "cores = ['green', 'lime','black','purple']\n",
    "\n",
    "#PLOT - Categorias YoY\n",
    "\n",
    "plt.figure(figsize=(12,8))\n",
    "plt.ylim(-3,20)\n",
    "\n",
    "sns.set_style('white')  \n",
    "\n",
    "plt.rcParams['font.family'] = 'Aptos Narrow' \n",
    "\n",
    "for i, coluna in enumerate(df_categorias_ano.columns):\n",
    "    sns.lineplot(data=df_categorias_ano, x=df_categorias_ano.index, y=coluna, color=cores[i], linewidth=2, label=coluna)\n",
    "    plt.plot(inflacao['Date'], inflacao['Limite superior'], linestyle='--', color='gray')\n",
    "    plt.plot(inflacao['Date'], inflacao['Limite inferior'], linestyle='--', color='gray')\n",
    "\n",
    "plt.gca().set_yticks(range(int(df_categorias_ano['Semiduráveis'].min()), int(df_categorias_ano['Semiduráveis'].max()) + 3, 1))\n",
    "plt.grid(axis='y', color='gray', alpha=0.25)\n",
    "\n",
    "plt.gca().xaxis.set_major_formatter(DateFormatter('%b/%y'))\n",
    "plt.gca().xaxis.set_major_locator(mdates.MonthLocator(bymonth=[1, 7]))     \n",
    "plt.gcf().autofmt_xdate()\n",
    "plt.xlim(df_categorias_ano.index.min(), df_categorias_ano.index.max())\n",
    "\n",
    "\n",
    "plt.title('IPCA - Categorias (var 12m)', fontsize=14)\n",
    "plt.ylabel('Inflação (%)',fontsize=12)\n",
    "plt.xlabel('Data', fontsize = 12)\n",
    "plt.legend(loc='upper right', fontsize='medium')\n",
    "\n",
    "sns.despine()\n",
    "\n",
    "plt.show()"
   ]
  },
  {
   "cell_type": "markdown",
   "metadata": {},
   "source": [
    "#### Comercialização IPCA"
   ]
  },
  {
   "cell_type": "code",
   "execution_count": null,
   "metadata": {},
   "outputs": [],
   "source": [
    "#Criar dicionário que armazena as séries abaixo - Comercialização\n",
    "\n",
    "comercializacao_ipca = {\n",
    "    'Comercializáveis': 4447,\n",
    "    'Não Comercializáveis': 4448,\n",
    "}\n",
    "\n",
    "df_comercializacao = pd.DataFrame()\n",
    "df_comercializacao_ano = pd.DataFrame()\n",
    "\n",
    "for nome, codigo in comercializacao_ipca.items():\n",
    "    df_comercializacao[nome] = get_series(codigo, data)\n",
    "\n",
    "#IPCA - Variação mensal \n",
    "df_comercializacao = round(df_comercializacao,2)\n",
    "\n",
    "#IPCA - Convertendo para variação anual \n",
    "df_comercializacao_ano = df_comercializacao.rolling(12).apply(lambda x: (1 + x / 100).prod() - 1).dropna() * 100\n",
    "df_comercializacao_ano = round(df_comercializacao_ano, 2)\n",
    "\n",
    "print(df_comercializacao.tail(5))\n",
    "print(df_comercializacao_ano.tail(5))"
   ]
  },
  {
   "cell_type": "code",
   "execution_count": null,
   "metadata": {},
   "outputs": [],
   "source": [
    "cores = ['lime','black']\n",
    "\n",
    "plt.figure(figsize=(12,8))\n",
    "plt.ylim(-2,15)\n",
    "\n",
    "plt.rcParams['font.family'] = 'Aptos Narrow' \n",
    "\n",
    "sns.set_style('white')  \n",
    "\n",
    "for i, coluna in enumerate(df_comercializacao_ano.columns):\n",
    "    sns.lineplot(data=df_comercializacao_ano, x=df_comercializacao_ano.index, y=coluna,color = cores[i],label=coluna,linewidth=2.5)\n",
    "    plt.plot(inflacao['Date'], inflacao['Limite superior'], linestyle='--', color='gray')\n",
    "    plt.plot(inflacao['Date'], inflacao['Limite inferior'], linestyle='--', color='gray')\n",
    "\n",
    "\n",
    "plt.gca().set_yticks(range(int(df_comercializacao_ano['Comercializáveis'].min()-3), int(df_comercializacao_ano['Comercializáveis'].max()) + 3, 1))\n",
    "plt.grid(axis='y', color='gray', alpha=0.25)\n",
    "\n",
    "plt.gca().xaxis.set_major_formatter(DateFormatter('%b/%y'))\n",
    "plt.gca().xaxis.set_major_locator(mdates.MonthLocator(bymonth=[1, 7]))     \n",
    "plt.gcf().autofmt_xdate()\n",
    "plt.xlim(df_comercializacao_ano.index.min(), df_comercializacao_ano.index.max())\n",
    "\n",
    "plt.title('Variação do IPCA - Comercialização (YoY)', fontsize=14)\n",
    "plt.ylabel('Inflação (%)',fontsize=12)\n",
    "plt.xlabel('Data', fontsize = 12)\n",
    "plt.legend(loc='upper right', fontsize='medium')\n",
    "\n",
    "sns.despine()\n",
    "\n",
    "plt.show()\n"
   ]
  },
  {
   "cell_type": "markdown",
   "metadata": {},
   "source": [
    "#### IPCA - Administrados e Livres"
   ]
  },
  {
   "cell_type": "code",
   "execution_count": null,
   "metadata": {},
   "outputs": [],
   "source": [
    "administrados_ipca = {\n",
    "    'Administrados': 4449,\n",
    "    'Total Livres': 11428,\n",
    "}\n",
    "\n",
    "df_administrados = pd.DataFrame()\n",
    "df_administrados_ano = pd.DataFrame()\n",
    "\n",
    "for nome, codigo in administrados_ipca.items():\n",
    "    df_administrados[nome] = get_series(codigo, data)\n",
    "\n",
    "#IPCA - Variação mensal (%)\n",
    "df_administrados = round(df_administrados,2)\n",
    "\n",
    "#IPCA - Convertendo para variação anual (%)\n",
    "df_administrados_ano = df_administrados.rolling(12).apply(lambda x: (1 + x / 100).prod() - 1).dropna() * 100\n",
    "df_administrados_ano = round(df_administrados_ano, 2)\n",
    "\n",
    "print(df_administrados.tail(5))\n",
    "print(df_administrados_ano.tail(5))\n"
   ]
  },
  {
   "cell_type": "code",
   "execution_count": null,
   "metadata": {},
   "outputs": [],
   "source": [
    "cores = ['lime','black']\n",
    "\n",
    "plt.figure(figsize=(10,6))\n",
    "\n",
    "plt.rcParams['font.family'] = 'Roc Grotesk' \n",
    "\n",
    "plt.title('Variação do IPCA - Administrados x Livres (YoY)', fontsize=14)\n",
    "\n",
    "sns.set_style('white')  \n",
    "\n",
    "for i, coluna in enumerate(df_administrados_ano.columns):\n",
    "    sns.lineplot(data=df_administrados_ano, x=df_administrados_ano.index, y=coluna,color = cores[i],label=coluna,linewidth=2.5)\n",
    "    plt.plot(inflacao['Date'], inflacao['Limite superior'], linestyle='--', color='gray')\n",
    "    plt.plot(inflacao['Date'], inflacao['Limite inferior'], linestyle='--', color='gray')\n",
    "\n",
    "plt.gca().set_yticks(range(int(df_administrados_ano['Administrados'].min()), int(df_administrados_ano['Administrados'].max()), 1))\n",
    "plt.grid(axis='y', color='gray', alpha=0.25)\n",
    "plt.gca().xaxis.set_major_formatter(DateFormatter('%b/%y'))\n",
    "plt.gca().xaxis.set_major_locator(mdates.MonthLocator(bymonth=[1, 8]))     \n",
    "plt.gcf().autofmt_xdate()\n",
    "plt.xlim(df_administrados_ano.index.min(), df_administrados_ano.index.max())\n",
    "\n",
    "plt.ylabel('Inflação (%)',fontsize=12)\n",
    "plt.xlabel('Data', fontsize = 12)\n",
    "plt.legend(loc='upper right', fontsize='medium')\n",
    "\n",
    "sns.despine()\n",
    "\n",
    "plt.show()"
   ]
  },
  {
   "cell_type": "markdown",
   "metadata": {},
   "source": [
    "#### IPCA - Difusão (MM12M)"
   ]
  },
  {
   "cell_type": "code",
   "execution_count": null,
   "metadata": {},
   "outputs": [],
   "source": [
    "df_difusao = pd.DataFrame()\n",
    "df_difusao_ano = pd.DataFrame()\n",
    "\n",
    "#Difusão mensal\n",
    "df_difusao['Difusão'] = get_series(21379,data)\n",
    "df_difusao = round(df_difusao, 2)\n",
    "\n",
    "#Convertendo difusão para YoY\n",
    "df_difusao_ano['Difusão MM12M'] = df_difusao.rolling(12).mean()\n",
    "df_difusao_ano = round(df_difusao_ano, 2)\n",
    "\n",
    "print(df_difusao.tail(5))\n",
    "print(df_difusao_ano.tail(5))"
   ]
  },
  {
   "cell_type": "code",
   "execution_count": null,
   "metadata": {},
   "outputs": [],
   "source": [
    "#Difusão = Mensal\n",
    "\n",
    "plt.figure(figsize=(12,8))\n",
    "\n",
    "plt.rcParams['font.family'] = 'Aptos Narrow' \n",
    "\n",
    "sns.set_style('white')  \n",
    "\n",
    "sns.lineplot(data=df_difusao_ano, x='Date', y='Difusão MM12M', color='darkgreen',linewidth=2.5, label = 'MM12M')\n",
    "sns.lineplot(data=df_difusao, x='Date', y='Difusão', color='lime',linewidth=2.5,label='Difusão')\n",
    "plt.grid(axis='y', color='gray', alpha=0.25)\n",
    "\n",
    "plt.gca().xaxis.set_major_formatter(DateFormatter('%b/%y'))\n",
    "    \n",
    "plt.gca().xaxis.set_major_locator(mdates.MonthLocator(bymonth=[1, 7]))     \n",
    "plt.gcf().autofmt_xdate()\n",
    "\n",
    "plt.xlim(df_difusao_ano.index.min(), df_difusao_ano.index.max())\n",
    "\n",
    "plt.title('Difusão - IPCA', fontsize=14)\n",
    "plt.ylabel('Difusão (%)',fontsize=14)\n",
    "plt.xlabel('Data', fontsize = 14)\n",
    "sns.despine()\n",
    "\n",
    "plt.show()\n"
   ]
  },
  {
   "cell_type": "markdown",
   "metadata": {},
   "source": [
    "#### Criando função que dessazonaliza os dataframes"
   ]
  },
  {
   "cell_type": "code",
   "execution_count": null,
   "metadata": {},
   "outputs": [],
   "source": [
    "def dessazonalizar(df):\n",
    "    dessazonalized_df = pd.DataFrame(index=df.index)\n",
    "    for column in df.columns:\n",
    "        decomposition = seasonal_decompose(df[column], model='additive', period=12)\n",
    "        dessazonalized_df[f'{column}'] = df[column] - decomposition.seasonal\n",
    "    return dessazonalized_df\n",
    "    "
   ]
  },
  {
   "cell_type": "markdown",
   "metadata": {},
   "source": [
    "#### Aplicando dessaz para todos os dataframes"
   ]
  },
  {
   "cell_type": "code",
   "execution_count": null,
   "metadata": {},
   "outputs": [],
   "source": [
    "#Dataframes que armazenam a variação da inflação mensal\n",
    "\n",
    "df_componentes_dessaz = round(dessazonalizar(df_componentes),2)\n",
    "df_categoria_dessaz = round(dessazonalizar(df_categorias))\n",
    "df_nucleos_dessaz = round(dessazonalizar(df_nucleos),2)\n",
    "df_comercializacao_dessaz = round(dessazonalizar(df_comercializacao),2)\n",
    "df_administrados_dessaz = round(dessazonalizar(df_administrados),2)"
   ]
  },
  {
   "cell_type": "code",
   "execution_count": null,
   "metadata": {},
   "outputs": [],
   "source": [
    "#Dataframes que armazenam a variação acumulada 12 meses da inflação\n",
    "\n",
    "df_componentes_ano_dessaz = round(dessazonalizar(df_componentes_ano),2)\n",
    "df_categoria_ano_dessaz = round(dessazonalizar(df_categorias_ano))\n",
    "df_nucleos_ano_dessaz = round(dessazonalizar(df_nucleos_ano),2)\n",
    "df_comercializacao_ano_dessaz = round(dessazonalizar(df_comercializacao_ano),2)\n",
    "df_administrados_ano_dessaz = round(dessazonalizar(df_administrados_ano),2)\n",
    "\n",
    "print(df_nucleos_ano_dessaz)"
   ]
  },
  {
   "cell_type": "markdown",
   "metadata": {},
   "source": [
    "#### IPCA x IPCA e Núcleos dessaz"
   ]
  },
  {
   "cell_type": "code",
   "execution_count": null,
   "metadata": {},
   "outputs": [],
   "source": [
    "plt.figure(figsize=(12,8))\n",
    "\n",
    "plt.rcParams['font.family'] = 'Aptos Narrow' \n",
    "\n",
    "sns.set_style('white')  \n",
    "\n",
    "sns.lineplot(data=df_nucleos_ano_dessaz, x='Date', y='Média',color='purple',linestyle= 'dotted',linewidth=4,label='Núcleo dessaz')\n",
    "sns.lineplot(data=merged_ipca, x='Date', y='IPCA var 12m',color='limegreen',linewidth=2.5,label='IPCA')\n",
    "plt.plot(inflacao['Date'], inflacao['Limite superior'], linestyle='--', color='gray')\n",
    "plt.plot(inflacao['Date'], inflacao['Limite inferior'], linestyle='--', color='gray')\n",
    "plt.grid(axis='y', color='gray', alpha=0.25)\n",
    "\n",
    "plt.gca().set_yticks(range(int(merged_ipca['IPCA var 12m'].min()), int(merged_ipca['IPCA var 12m'].max())+2, 1))\n",
    "\n",
    "plt.gca().xaxis.set_major_formatter(DateFormatter('%b/%y'))\n",
    "plt.gca().xaxis.set_major_locator(mdates.MonthLocator(bymonth=[1, 7]))     \n",
    "plt.gcf().autofmt_xdate()\n",
    "plt.xlim(df_nucleos_ano_dessaz.index.min(), df_nucleos_ano_dessaz.index.max())\n",
    "\n",
    "plt.title('Variação em 12 meses encadeada - IPCA', fontsize=14)\n",
    "plt.ylabel('Inflação (%)',fontsize=12)\n",
    "plt.xlabel('Data', fontsize = 12)\n",
    "sns.despine()\n",
    "\n",
    "plt.show()"
   ]
  },
  {
   "cell_type": "markdown",
   "metadata": {},
   "source": [
    "#### Criando função que calcula média móvel de três meses sobre o dataframe dessazonalizado"
   ]
  },
  {
   "cell_type": "code",
   "execution_count": null,
   "metadata": {},
   "outputs": [],
   "source": [
    "def three_month_moving_average(df):\n",
    "    moving_averages_df = pd.DataFrame(index=df.index)\n",
    "    for column in df.columns:\n",
    "        moving_averages_df[f'{column} MM3M'] = df[column].rolling(window=3).mean()\n",
    "    return moving_averages_df"
   ]
  },
  {
   "cell_type": "markdown",
   "metadata": {},
   "source": [
    "#### Calculando a média móvel de 3 meses dessazonalizada para cada Data Frame"
   ]
  },
  {
   "cell_type": "code",
   "execution_count": null,
   "metadata": {},
   "outputs": [],
   "source": [
    "df_componentes_ma = round(three_month_moving_average(df_componentes_dessaz),2)\n",
    "df_categorias_ma = round(three_month_moving_average(df_categoria_dessaz),2)\n",
    "df_nucleos_ma = round(three_month_moving_average(df_nucleos_dessaz),2)\n",
    "df_comercializacao_ma = round(three_month_moving_average(df_comercializacao_dessaz),2)\n",
    "df_administrados_ma = round(three_month_moving_average(df_administrados_dessaz),2)"
   ]
  },
  {
   "cell_type": "code",
   "execution_count": null,
   "metadata": {},
   "outputs": [],
   "source": [
    "df_componentes_ano_ma = round(three_month_moving_average(df_componentes_ano_dessaz),2)\n",
    "df_categorias_ano_ma = round(three_month_moving_average(df_categoria_ano_dessaz),2)\n",
    "df_nucleos_ano_ma = round(three_month_moving_average(df_nucleos_ano_dessaz),2)\n",
    "df_comercializacao_ano_ma = round(three_month_moving_average(df_comercializacao_ano_dessaz),2)\n",
    "df_administrados_ano_ma = round(three_month_moving_average(df_administrados_ano_dessaz),2)"
   ]
  },
  {
   "cell_type": "markdown",
   "metadata": {},
   "source": [
    "#### Gráficos - IPCA Dessaz"
   ]
  },
  {
   "cell_type": "code",
   "execution_count": null,
   "metadata": {},
   "outputs": [],
   "source": [
    "def generate_plots(min, max, df,texto):\n",
    "\n",
    "    plt.rcParams['font.family'] = 'Aptos Narrow' \n",
    "\n",
    "    cores = ['lime','black','indigo','gray','green','blue']\n",
    "\n",
    "    plt.figure(figsize=(12,8))\n",
    "    plt.ylim(min,max)\n",
    "\n",
    "    sns.set_style('white')  \n",
    "\n",
    "    for i, coluna in enumerate(df.columns):\n",
    "        sns.lineplot(data=df, x=df.index, y=coluna,color = cores[i],label=coluna,linewidth=2.5)\n",
    "        plt.plot(inflacao['Date'], inflacao['Limite superior'], linestyle='--', color='gray')\n",
    "        plt.plot(inflacao['Date'], inflacao['Limite inferior'], linestyle='--', color='gray')\n",
    "\n",
    "    plt.grid(axis='y', color='gray', alpha=0.25)\n",
    "    plt.title(texto, fontsize=14)\n",
    "    plt.ylabel('Inflação (%)',fontsize=12)\n",
    "    plt.xlabel('Data', fontsize = 12)\n",
    "    plt.legend(loc='best', fontsize='medium')\n",
    "\n",
    "    plt.gca().xaxis.set_major_formatter(DateFormatter('%b/%y'))\n",
    "    plt.gca().xaxis.set_major_locator(mdates.MonthLocator(bymonth=[1, 7]))     \n",
    "    plt.gcf().autofmt_xdate()\n",
    "\n",
    "    plt.xlim(df.index.min(), df.index.max())\n",
    "\n",
    "    plt.gca().set_yticks(range(min, max + 1, 1))\n",
    "\n",
    "    sns.despine()\n",
    "\n",
    "    plt.show()\n",
    "\n",
    "administrados = generate_plots(-5,20,df_administrados_ano_ma,'Administrados x Livres (MM3M) - Anualizada')\n",
    "nucleos = generate_plots(0,12,df_nucleos_ano_ma,'Evolução dos núcleos (MM3M) - Anualizada')\n",
    "categorias = generate_plots(-5,20,df_categorias_ano_ma,'Evolução da inflação (MM3M) - Anualizada')\n",
    "comercializaveis = generate_plots(-2,15,df_comercializacao_ano_ma,'Comercialização - (MM3M) - Anualizada')"
   ]
  },
  {
   "cell_type": "markdown",
   "metadata": {},
   "source": [
    "#### Portanto, os respectivos dataframes que serão utilizados são: \n",
    "\n",
    "##### df_componentes,df_componentes_ano, df_componentes_dessaz e df_componentes_ma \n",
    "##### df_categorias, df_componentes_ano, df_categorias_dessaz e df_categorias_ma\n",
    "##### df_nucleos, df_nucleos_ano, df_nucleos_dessaz e df_nucleos_ma\n",
    "##### df_comercializacao,df_comercializacao_ano df_comercializacao_dessaz e df_comercializacao_ma\n",
    "##### df_administrados,df_administrados_ano, df_administrados_dessaz e df_administrados_ma\n",
    "\n",
    "##### Cada critério possui quatro dataframes: Um que contém a variação mensal, um que contém a variação acumulada 12m, um dessazonalizado, e uma média móvel de 3 meses"
   ]
  }
 ],
 "metadata": {
  "interpreter": {
   "hash": "39e7a832443efa2cd0020d61b94f02b912a2efc1bc2f54f0cb3f222677c72b26"
  },
  "kernelspec": {
   "display_name": "Python 3.7.16 ('riobravo_env1')",
   "language": "python",
   "name": "python3"
  },
  "language_info": {
   "codemirror_mode": {
    "name": "ipython",
    "version": 3
   },
   "file_extension": ".py",
   "mimetype": "text/x-python",
   "name": "python",
   "nbconvert_exporter": "python",
   "pygments_lexer": "ipython3",
   "version": "3.7.16"
  },
  "orig_nbformat": 4
 },
 "nbformat": 4,
 "nbformat_minor": 2
}
