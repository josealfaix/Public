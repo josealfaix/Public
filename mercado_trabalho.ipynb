{
 "cells": [
  {
   "cell_type": "markdown",
   "metadata": {},
   "source": [
    "#### Importando bibliotecas"
   ]
  },
  {
   "cell_type": "code",
   "execution_count": null,
   "metadata": {},
   "outputs": [],
   "source": [
    "import pandas as pd\n",
    "import numpy as np \n",
    "import matplotlib.pyplot as plt\n",
    "from bcb import sgs\n",
    "import seaborn as sns\n",
    "from plotnine import *\n",
    "import statsmodels.api as sm\n",
    "from statsmodels.tsa import x13\n",
    "import os \n",
    "import matplotlib.dates as mdates"
   ]
  },
  {
   "cell_type": "markdown",
   "metadata": {},
   "source": [
    "#### 1. Dados gerais - Desocupação e Rendimento real "
   ]
  },
  {
   "cell_type": "code",
   "execution_count": null,
   "metadata": {},
   "outputs": [],
   "source": [
    "#PNAD - Variação mensal\n",
    "pnad = sgs.get({'pnad':24369},start = \"2019-02-02\")\n",
    "\n",
    "import urllib.request\n",
    "import zipfile\n",
    "\n",
    "url = \"https://www2.census.gov/software/x-13arima-seats/x13as/windows/program-archives/x13as_ascii-v1-1-b59.zip\"\n",
    "nome_arquivo_zip = \"x13as_ascii-v1-1-b59.zip\"\n",
    "\n",
    "# Baixa o arquivo\n",
    "urllib.request.urlretrieve(url, nome_arquivo_zip)\n",
    "\n",
    "# Extrai o arquivo zipado\n",
    "with zipfile.ZipFile(nome_arquivo_zip, 'r') as zip_ref:\n",
    "    zip_ref.extractall()\n",
    "    \n",
    "# Define o caminho do programa como variável de ambiente\n",
    "os.environ[\"X13PATH\"] = \"x13as\"\n",
    "\n",
    "# Ajusta sazonalmente a pnad\n",
    "pnad_sa = (\n",
    "    pnad\n",
    "    .assign(pnad_sa = lambda x: x13.x13_arima_analysis(endog = x.pnad).seasadj)\n",
    "    .reset_index()\n",
    ")\n",
    "\n",
    "pnad_sa = round((pnad_sa),2)"
   ]
  },
  {
   "cell_type": "markdown",
   "metadata": {},
   "source": [
    "1.1 Gráfico - PNAD x Dessaz"
   ]
  },
  {
   "cell_type": "code",
   "execution_count": null,
   "metadata": {},
   "outputs": [],
   "source": [
    "plt.figure(figsize=(12,8))\n",
    "\n",
    "def percent_formatter(x, pos):\n",
    "    return f'{x:.2f}%'\n",
    "\n",
    "plt.rcParams['font.family'] = 'Roc Grotesk'\n",
    "\n",
    "plt.title('Taxa de desocupação - PNADC', fontsize=14, fontweight='bold', pad=20)\n",
    "\n",
    "plt.ylim(4,15)\n",
    "\n",
    "plt.plot(pnad_sa['Date'], pnad_sa['pnad'], color='limegreen', linewidth=2,label='Desocupação (%)')\n",
    "plt.plot(pnad_sa['Date'], pnad_sa['pnad_sa'], color='dimgrey', linewidth=2,linestyle='--',label='Ajuste sazonal')\n",
    "\n",
    "plt.legend(loc='upper left', fontsize='12', bbox_to_anchor=(0.68, 0.58))\n",
    "\n",
    "ax = plt.gca()\n",
    "\n",
    "ax.yaxis.set_major_formatter(FuncFormatter(percent_formatter))\n",
    "\n",
    "for spine in ax.spines.values():\n",
    "    spine.set_visible(False)\n",
    "ax.spines['left'].set_visible(False)\n",
    "\n",
    "plt.show()"
   ]
  },
  {
   "cell_type": "markdown",
   "metadata": {},
   "source": [
    "1.2 Criando função que extrai as séries"
   ]
  },
  {
   "cell_type": "code",
   "execution_count": null,
   "metadata": {},
   "outputs": [],
   "source": [
    "#Função que servirá para pegar as séries\n",
    "\n",
    "def get_series(codigo, date):\n",
    "    df = sgs.get({codigo:codigo},start =date)\n",
    "\n",
    "    return df"
   ]
  },
  {
   "cell_type": "markdown",
   "metadata": {},
   "source": [
    "#### 2. População Economicamente Ativa - Categorias"
   ]
  },
  {
   "cell_type": "code",
   "execution_count": null,
   "metadata": {},
   "outputs": [],
   "source": [
    "data = \"2022-06-02\"\n",
    "\n",
    "componentes_pea = {\n",
    "    'PIA': 24370,\n",
    "    'Empregados no setor público e privado': 24371,\n",
    "    'Empregados no setor público': 24372,  \n",
    "    'Empregados por conta própria': 24373,\n",
    "    'Setor privado - Com carteira': 24375,\n",
    "    'Setor privado - Sem carteira': 24376,\n",
    "    'Setor privado - Total': 24377,\n",
    "    'Empregadores':24374,\n",
    "    'População na força de trabalho': 24378,\n",
    "    'População ocupada':24379\n",
    "}\n",
    "\n",
    "df_pea = pd.DataFrame()\n",
    "\n",
    "for nome, codigo in componentes_pea.items():\n",
    "    df_pea[nome] = get_series(codigo, data)\n",
    "\n",
    "df_pea"
   ]
  },
  {
   "cell_type": "markdown",
   "metadata": {},
   "source": [
    "2.1 Dessazonalizando PIA, PEA e PO"
   ]
  },
  {
   "cell_type": "code",
   "execution_count": null,
   "metadata": {},
   "outputs": [],
   "source": [
    "data = \"2021-02-02\"\n",
    "\n",
    "componentes_contingentes = {\n",
    "    'PIA': 24370,\n",
    "    'PEA': 24378,\n",
    "    'PO':24379\n",
    "}\n",
    "\n",
    "df_contingentes = pd.DataFrame()\n",
    "\n",
    "for nome, codigo in componentes_contingentes.items():\n",
    "    df_contingentes[nome] = get_series(codigo, data)\n",
    "\n",
    "df_contingentes\n",
    "\n",
    "# Ajusta sazonalmente\n",
    "\n",
    "contingentes_sa = pd.DataFrame(index=df_contingentes.index)  \n",
    "\n",
    "for column in df_contingentes.columns:\n",
    "    contingentes_sa[column] = x13.x13_arima_analysis(endog=df_contingentes[column]).seasadj\n",
    "\n",
    "pd.set_option('display.float_format', lambda x: '%.2f' % x)\n",
    "\n",
    "contingentes_sa = contingentes_sa/1000\n",
    "print(contingentes_sa)"
   ]
  },
  {
   "cell_type": "markdown",
   "metadata": {},
   "source": [
    "2.2 Taxa de participação (PEA/PIA)"
   ]
  },
  {
   "cell_type": "code",
   "execution_count": null,
   "metadata": {},
   "outputs": [],
   "source": [
    "from matplotlib.ticker import FuncFormatter\n",
    "\n",
    "def percent_formatter(x, pos):\n",
    "    return f'{x:.2f}%'\n",
    "\n",
    "particip = (contingentes_sa['PEA']/contingentes_sa['PIA'])*100\n",
    "\n",
    "cores = ['green', 'dimgrey']\n",
    "\n",
    "plt.figure(figsize=(12, 8))\n",
    "\n",
    "plt.rcParams['font.family'] = 'Roc Grotesk'\n",
    "\n",
    "plt.title('Taxa de participação - ajuste sazonal', fontsize=14, fontweight='bold',pad=20)\n",
    "\n",
    "plt.plot(contingentes_sa.index, particip, color='limegreen', linewidth=2)\n",
    "\n",
    "#plt.gca().xaxis.set_major_formatter(mdates.DateFormatter('%b-%y'))\n",
    "#plt.gca().xaxis.set_major_locator(mdates.MonthLocator(interval=6))\n",
    "\n",
    "ax = plt.gca()\n",
    "\n",
    "ax.yaxis.set_major_formatter(FuncFormatter(percent_formatter))\n",
    "\n",
    "for spine in ax.spines.values():\n",
    "    spine.set_visible(False)\n",
    "ax.spines['left'].set_visible(False)\n",
    "\n",
    "plt.show()"
   ]
  },
  {
   "cell_type": "markdown",
   "metadata": {},
   "source": [
    "2.3 Contingentes populacionais - com ajuste sazonal"
   ]
  },
  {
   "cell_type": "code",
   "execution_count": null,
   "metadata": {},
   "outputs": [],
   "source": [
    "cores = ['green', 'dimgrey']\n",
    "\n",
    "plt.figure(figsize=(12, 8))\n",
    "\n",
    "plt.rcParams['font.family'] = 'Roc Grotesk'\n",
    "\n",
    "plt.title('Contingentes populacionais - ajuste sazonal\\n(milhões de pessoas)', fontsize=14,fontweight='bold',pad=20)\n",
    "\n",
    "ax1 = plt.gca()\n",
    "\n",
    "ax1.plot(contingentes_sa.index, contingentes_sa['PEA'], color='limegreen', linewidth=2, label='PEA (eixo esq.)')\n",
    "\n",
    "ax2 = ax1.twinx()\n",
    "\n",
    "ax2.plot(contingentes_sa.index, contingentes_sa['PO'], color='dimgrey', linewidth=4, linestyle='dotted', label='PO (eixo dir.)')\n",
    "\n",
    "lines, labels = ax1.get_legend_handles_labels()\n",
    "lines2, labels2 = ax2.get_legend_handles_labels()\n",
    "ax1.legend(lines + lines2, labels + labels2, loc='upper left', fontsize='12', bbox_to_anchor=(0.72, 0.38))\n",
    "ax1.spines['top'].set_visible(False)\n",
    "ax2.spines['top'].set_visible(False)\n",
    "\n",
    "#plt.gca().xaxis.set_major_formatter(mdates.DateFormatter('%b-%y'))\n",
    "#plt.gca().xaxis.set_major_locator(mdates.MonthLocator(interval=6))\n",
    "\n",
    "plt.show()"
   ]
  },
  {
   "cell_type": "markdown",
   "metadata": {},
   "source": [
    "2.4 Criando índices - Informalidade"
   ]
  },
  {
   "cell_type": "code",
   "execution_count": null,
   "metadata": {},
   "outputs": [],
   "source": [
    "indices = pd.DataFrame()\n",
    "\n",
    "indices['Informal'] = (df_pea['Setor privado - Sem carteira']/df_pea['Empregados no setor público e privado'])*100\n",
    "indices['Formal'] = (df_pea['Setor privado - Com carteira']/df_pea['Empregados no setor público e privado'])*100\n",
    "\n",
    "df_pea['Formais'] = (df_pea['Setor privado - Com carteira'] + df_pea['Empregados no setor público'] + df_pea['Empregadores'])\n",
    "\n",
    "delta = pd.DataFrame()\n",
    "\n",
    "delta['Formal'] = ((df_pea['Formais'].diff()/df_pea['Empregados no setor público e privado'])*100)\n",
    "delta['Informal'] = ((df_pea['Setor privado - Sem carteira'].diff()/df_pea['Empregados no setor público e privado'])*100)\n",
    "delta['Total'] = ((df_pea['Empregados no setor público e privado'].diff()/df_pea['Empregados no setor público e privado']))*100\n",
    "\n",
    "delta = delta.reset_index()\n",
    "\n",
    "delta"
   ]
  },
  {
   "cell_type": "markdown",
   "metadata": {},
   "source": [
    "2.5 - Gráfico de contribuições (Formais x informais)"
   ]
  },
  {
   "cell_type": "code",
   "execution_count": null,
   "metadata": {},
   "outputs": [],
   "source": [
    "import matplotlib.dates as mdates\n",
    "\n",
    "plt.figure(figsize=(12, 8))\n",
    "\n",
    "plt.rcParams['font.family'] = 'Roc Grotesk' \n",
    "\n",
    "plt.title('Contribuições para o crescimento do emprego (%)\\nmês a mês', fontsize=14)\n",
    "\n",
    "plt.ylim(-0.6,1.0)\n",
    "\n",
    "# Plotando a linha do total\n",
    "plt.plot(delta['Date'], delta['Total'], color='black', linewidth=2.5, label='Total')\n",
    "\n",
    "# Usando a coluna 'Date' para a posição das barras\n",
    "plt.bar(delta['Date'], delta['Formal'], color='green', label='Com carteira', width=20)\n",
    "plt.bar(delta['Date'], delta['Informal'], color='lightgreen', label='Sem carteira',width=20,alpha=0.8)\n",
    "\n",
    "# Configuração do eixo X\n",
    "plt.axhline(0, color='gray', linewidth=0.8)   \n",
    "plt.gca().xaxis.set_major_formatter(mdates.DateFormatter('%b-%y'))\n",
    "plt.gca().xaxis.set_major_locator(mdates.MonthLocator(interval=3))\n",
    "\n",
    "plt.legend(loc='upper left', fontsize='medium', bbox_to_anchor=(0.21, 0.84))\n",
    "\n",
    "ax = plt.gca()\n",
    "for spine in ax.spines.values():\n",
    "    spine.set_visible(False)\n",
    "ax.spines['left'].set_visible(True)\n",
    "\n",
    "plt.show()"
   ]
  },
  {
   "cell_type": "markdown",
   "metadata": {},
   "source": [
    "#### 3. Renda - Rendimento, massa salarial ..."
   ]
  },
  {
   "cell_type": "code",
   "execution_count": null,
   "metadata": {},
   "outputs": [],
   "source": [
    "#Importando dados de rendimento e massa real\n",
    "\n",
    "componentes_rendimento = {\n",
    "    'Rendimento real habitual': 24382,\n",
    "    'Rendimento real - Com carteira': 24383,\n",
    "    'Rendimento real - Sem carteira': 24384,  \n",
    "    'Rendimento real efetivo': 24381,\n",
    "    'Massa real efetiva': 28544,\n",
    "    'Massa real habitual': 28545,\n",
    "}\n",
    "df_rendimento = pd.DataFrame()\n",
    "\n",
    "for nome, codigo in componentes_rendimento.items():\n",
    "    df_rendimento[nome] = get_series(codigo, data)\n",
    "\n",
    "#Importando dados de renda dispnível - já são deflacionados e dessaz, portanto não passam pelo ajuste sazonal\n",
    "\n",
    "renda_disponivel = {\n",
    "    'Renda disponível das famílias':29027,\n",
    "    'Renda disponível das famílias - restrita':29026\n",
    "}\n",
    "\n",
    "df_renda_disponivel = pd.DataFrame()\n",
    "for nome, codigo in renda_disponivel.items():\n",
    "    df_renda_disponivel[nome] = get_series(codigo, data)\n"
   ]
  },
  {
   "cell_type": "markdown",
   "metadata": {},
   "source": [
    "3.1 Ajuste sazonal - Massa real de rendimentos, e rendimento real médio (efetivo e habitual)"
   ]
  },
  {
   "cell_type": "code",
   "execution_count": null,
   "metadata": {},
   "outputs": [],
   "source": [
    "# Ajusta sazonalmente\n",
    "\n",
    "df_rendimento = df_rendimento.fillna(0)\n",
    "\n",
    "rendimento_sa = pd.DataFrame(index=df_rendimento.index)  \n",
    "\n",
    "for column in df_rendimento.columns:\n",
    "    rendimento_sa[column] = x13.x13_arima_analysis(endog=df_rendimento[column]).seasadj\n",
    "\n",
    "rendimento_sa"
   ]
  },
  {
   "cell_type": "markdown",
   "metadata": {},
   "source": [
    "3.2 Criando deltas - YoY, MoM "
   ]
  },
  {
   "cell_type": "code",
   "execution_count": null,
   "metadata": {},
   "outputs": [],
   "source": [
    "def delta_mom(df):\n",
    "    mom_df = df.pct_change()*100\n",
    "    mom_df = mom_df.rename(columns=lambda col: f\"{col} MoM\")\n",
    "\n",
    "    return mom_df\n",
    "\n",
    "def delta_yoy(df):\n",
    "    yoy_df = pd.DataFrame(index=df.index[12:], columns=df.columns)\n",
    "    \n",
    "    for coluna in df.columns:\n",
    "        yoy_df[coluna] = ((df[coluna].iloc[12:].values / df[coluna].iloc[:-12].values) - 1) * 100\n",
    "    \n",
    "    yoy_df = yoy_df.rename(columns=lambda col: f\"{col} YoY\")\n",
    "\n",
    "    return yoy_df\n",
    "\n",
    "def delta_tot(df):\n",
    "    tot_df = pd.DataFrame(index=df.index[4:], columns=df.columns)\n",
    "\n",
    "    for coluna in df.columns:\n",
    "        tot_df[coluna] = ((df[coluna].iloc[4:].values / df[coluna].iloc[:-4].values) - 1) * 100\n",
    "\n",
    "    tot_df = tot_df.rename(columns=lambda col: f\"{col} ToT\")\n",
    "\n",
    "    return tot_df\n",
    "\n",
    "\n",
    "#Rendimento real médio e massa real \n",
    "rendimento_sa_mom = delta_mom(rendimento_sa)\n",
    "rendimento_sa_yoy = delta_yoy(rendimento_sa)\n",
    "rendimento_sa_tot = delta_tot(rendimento_sa)\n",
    "\n",
    "#Renda disponível das famílias\n",
    "df_renda_disponivel_mom = delta_mom(df_renda_disponivel)\n",
    "df_renda_disponivel_yoy = delta_yoy(df_renda_disponivel)\n",
    "df_renda_disponivel_tot = delta_yoy(df_renda_disponivel)"
   ]
  },
  {
   "cell_type": "markdown",
   "metadata": {},
   "source": [
    "3.3 Criando função para igualar os tamanhos dos dataframes"
   ]
  },
  {
   "cell_type": "code",
   "execution_count": null,
   "metadata": {},
   "outputs": [],
   "source": [
    "#Função de compatibilidade\n",
    "def compat_size(df,df2):\n",
    "    df = pd.concat([df,df2],axis=1)\n",
    "    df = df.dropna()\n",
    "\n",
    "    return df\n",
    "\n",
    "#Compatibilizando tamanho dos dataframes desejados\n",
    "renda_disponivel = compat_size(df_renda_disponivel,df_renda_disponivel_yoy)\n",
    "massa_habitual = compat_size(rendimento_sa, rendimento_sa_tot)\n",
    "rendimento = rendimento_sa.iloc[:-1]"
   ]
  },
  {
   "cell_type": "markdown",
   "metadata": {},
   "source": [
    "3.4 Criando funções para dois tipos diferentes de gráfico"
   ]
  },
  {
   "cell_type": "code",
   "execution_count": null,
   "metadata": {},
   "outputs": [],
   "source": [
    "def growth_chart(df, titulo, coluna, coluna2):\n",
    "    plt.figure(figsize=(12, 8))\n",
    "    plt.rcParams['font.family'] = 'Roc Grotesk'\n",
    "\n",
    "    plt.title(titulo, fontsize=14)\n",
    "\n",
    "    ax1 = plt.gca()\n",
    "    \n",
    "    if coluna not in df.columns:\n",
    "        raise ValueError(f\"A coluna '{coluna}' deve existir em ambos os DataFrames.\")\n",
    "\n",
    "    ax1.bar(df.index, df[coluna], color='lightgreen', width=20,alpha=0.7)  \n",
    "    ax2 = ax1.twinx()\n",
    "    ax2.plot(df.index, df[coluna2], color='black', linewidth=2.5)\n",
    "\n",
    "    ax1.tick_params(axis='both', which='both', length=0)  \n",
    "    ax2.tick_params(axis='both', which='both', length=0)  \n",
    "\n",
    "    ax1.spines['top'].set_visible(False)\n",
    "    ax2.spines['top'].set_visible(False)\n",
    "\n",
    "    plt.show()\n",
    "\n",
    "####################\n",
    "\n",
    "def line_chart(df, titulo, coluna, coluna2):\n",
    "    plt.figure(figsize=(12,8))\n",
    "\n",
    "    plt.rcParams['font.family'] = 'Roc Grotesk'\n",
    "\n",
    "    plt.title(titulo, fontsize=14, fontweight='bold', pad=10)\n",
    "\n",
    "    plt.ylim()\n",
    "\n",
    "    plt.plot(df.index, df[coluna], color='limegreen', linewidth=2,label=coluna)\n",
    "    plt.plot(df.index, df[coluna2], color='indigo', linewidth=2,label=coluna2)\n",
    "\n",
    "    z1 = np.polyfit(df.index.astype(int), df[coluna], 1)  # Regressão linear\n",
    "    p1 = np.poly1d(z1)\n",
    "    plt.plot(df.index, p1(df.index.astype(int)), color='limegreen', linestyle='--', linewidth=1)\n",
    "\n",
    "    z2 = np.polyfit(df.index.astype(int), df[coluna2], 1)  # Regressão linear\n",
    "    p2 = np.poly1d(z2)\n",
    "    plt.plot(df.index, p2(df.index.astype(int)), color='indigo', linestyle='--', linewidth=1)\n",
    "\n",
    "    plt.legend(loc='upper left', fontsize='12', bbox_to_anchor=(0.15, 0.88))\n",
    "\n",
    "    ax = plt.gca()\n",
    "\n",
    "    for spine in ax.spines.values():\n",
    "        spine.set_visible(False)\n",
    "    ax.spines['left'].set_visible(False)\n",
    "\n",
    "    plt.show()\n"
   ]
  },
  {
   "cell_type": "markdown",
   "metadata": {},
   "source": [
    "3.5 Puxando os gráficos desejados"
   ]
  },
  {
   "cell_type": "code",
   "execution_count": null,
   "metadata": {},
   "outputs": [],
   "source": [
    "#Estilo bar plot x line plot\n",
    "growth_chart(renda_disponivel, \n",
    "             'Renda disponível das famílias - R$\\n(deflacionado e com ajuste sazonal)', \n",
    "             'Renda disponível das famílias YoY', 'Renda disponível das famílias')\n",
    "\n",
    "growth_chart(massa_habitual, \n",
    "             'Massa real de rendimento médio - habitual - R$\\n(com ajuste sazonal)', \n",
    "             'Massa real habitual ToT', 'Massa real habitual')\n",
    "\n",
    "####################\n",
    "\n",
    "#Estilo line plot\n",
    "line_chart(rendimento,'Rendimento real médio (R$)\\nEfetivo x Habitual','Rendimento real habitual', 'Rendimento real efetivo')"
   ]
  },
  {
   "cell_type": "markdown",
   "metadata": {},
   "source": [
    "#### 4. CAGED - Análise por decomposição de setores"
   ]
  },
  {
   "cell_type": "markdown",
   "metadata": {},
   "source": [
    "4.1 CAGED - Consolidado"
   ]
  },
  {
   "cell_type": "code",
   "execution_count": null,
   "metadata": {},
   "outputs": [],
   "source": [
    "#Série original\n",
    "caged = sgs.get({'caged':28763},start = \"2019-02-02\")\n",
    "\n",
    "caged = caged.diff()\n",
    "caged = caged.fillna(0)\n",
    "\n",
    "#Série dessazonalizada\n",
    "caged_sa = (\n",
    "    caged\n",
    "    .assign(caged_sa = lambda x: x13.x13_arima_analysis(endog = x.caged).seasadj)\n",
    "    .reset_index()\n",
    ")\n",
    "caged_sa"
   ]
  },
  {
   "cell_type": "markdown",
   "metadata": {},
   "source": [
    "4.2 CAGED - Saldo total"
   ]
  },
  {
   "cell_type": "code",
   "execution_count": null,
   "metadata": {},
   "outputs": [],
   "source": [
    "cores = ['green','dimgrey']\n",
    "\n",
    "plt.figure(figsize=(12,8))\n",
    "\n",
    "plt.rcParams['font.family'] = 'Roc Grotesk' \n",
    "\n",
    "plt.title('Caged - Saldo total', fontsize=14)\n",
    "plt.ylim()\n",
    "\n",
    "sns.set_style('white')  \n",
    "\n",
    "#Plot da variação anual\n",
    "\n",
    "sns.lineplot(data=caged_sa, x='Date', y='caged', color='limegreen',linewidth=2, label= 'CAGED')\n",
    "sns.lineplot(data=caged_sa, x='Date', y='caged_sa', color='dimgrey',linewidth=4,linestyle='dotted',label='Dessaz')\n",
    "\n",
    "plt.ylabel('',fontsize=12)\n",
    "plt.xlabel('Data', fontsize = 12)\n",
    "plt.legend(loc='upper left', fontsize='medium',bbox_to_anchor=(0.98,0.98))\n",
    "\n",
    "plt.ticklabel_format(style='plain', axis='y')\n",
    "\n",
    "sns.despine()\n",
    "\n",
    "plt.show()"
   ]
  },
  {
   "cell_type": "markdown",
   "metadata": {},
   "source": [
    "4.3 Agrupamento por setores da economia"
   ]
  },
  {
   "cell_type": "code",
   "execution_count": null,
   "metadata": {},
   "outputs": [],
   "source": [
    "#Saldo por agrupamento de atividade econômica\n",
    "\n",
    "componentes_caged = {\n",
    "    'Agropecuária': 28764,\n",
    "    'Indústrias de transformação': 28766,  \n",
    "    'Construção': 28770,\n",
    "    'Comércio': 28771,\n",
    "    'Serviços': 28772\n",
    "}\n",
    "\n",
    "df_setores = pd.DataFrame()\n",
    "\n",
    "for nome, codigo in componentes_caged.items():\n",
    "    df_setores[nome] = get_series(codigo, data)\n",
    "\n",
    "df_setores = df_setores.diff()\n",
    "df_setores = df_setores.fillna(0)\n",
    "\n",
    "df_setores"
   ]
  },
  {
   "cell_type": "markdown",
   "metadata": {},
   "source": [
    "4.4 Retirando a sazonalidade dos componentes"
   ]
  },
  {
   "cell_type": "code",
   "execution_count": null,
   "metadata": {},
   "outputs": [],
   "source": [
    "# Ajusta sazonalmente a pnad\n",
    "\n",
    "setores_sa = pd.DataFrame(index=df_setores.index)  \n",
    "\n",
    "for column in df_setores.columns:\n",
    "    setores_sa[column] = x13.x13_arima_analysis(endog=df_setores[column]).seasadj\n",
    "\n",
    "pd.set_option('display.float_format', lambda x: '%.f' % x)\n",
    "\n",
    "setores_sa"
   ]
  },
  {
   "cell_type": "markdown",
   "metadata": {},
   "source": [
    "4.5 Plot dos setores - Dessaz"
   ]
  },
  {
   "cell_type": "code",
   "execution_count": null,
   "metadata": {},
   "outputs": [],
   "source": [
    "cores = ['green', 'lime','black','purple','blue','red','orange','gold','gray']\n",
    "\n",
    "plt.figure(figsize=(12,8))\n",
    "\n",
    "plt.rcParams['font.family'] = 'Roc Grotesk' \n",
    "\n",
    "plt.title('Caged - Setores (Dessaz)', fontsize=14)\n",
    "\n",
    "plt.ylim()\n",
    "\n",
    "sns.set_style('white')  \n",
    "\n",
    "for i, coluna in enumerate(setores_sa.columns):\n",
    "    sns.lineplot(data=setores_sa, x=setores_sa.index, y=coluna, color=cores[i], label=coluna)\n",
    "\n",
    "plt.title('Caged - Setores (Dessaz)', fontsize=14)\n",
    "plt.ylabel('',fontsize=12)\n",
    "plt.xlabel('Data', fontsize = 12)\n",
    "plt.legend(loc='upper left', fontsize='medium',bbox_to_anchor=(0.68,0.28))\n",
    "\n",
    "sns.despine()\n",
    "\n",
    "plt.show()"
   ]
  },
  {
   "cell_type": "markdown",
   "metadata": {},
   "source": [
    "4.6 Recolhendo os últimos dois valores do CAGED para fazer o gráfico de barras"
   ]
  },
  {
   "cell_type": "code",
   "execution_count": null,
   "metadata": {},
   "outputs": [],
   "source": [
    "setores_bar = df_setores.iloc[-1]\n",
    "setores_bar_last = df_setores.iloc[-2]"
   ]
  },
  {
   "cell_type": "markdown",
   "metadata": {},
   "source": [
    "4.7 Bar plot - últimos resultados"
   ]
  },
  {
   "cell_type": "code",
   "execution_count": null,
   "metadata": {},
   "outputs": [],
   "source": [
    "nomes = [\n",
    "    'Agropecuária',\n",
    "    'Indústria de\\ntransformação',\n",
    "    'Construção',\n",
    "    'Comércio',\n",
    "    'Serviços'\n",
    "]\n",
    "\n",
    "plt.figure(figsize=(10, 6))\n",
    "\n",
    "plt.rcParams['font.family'] = 'Roc Grotesk' \n",
    "\n",
    "bar_width = 0.35\n",
    "\n",
    "x = np.arange(len(setores_bar))\n",
    "\n",
    "bars = plt.bar(x, setores_bar.values, width=bar_width, color='limegreen', label='Último CAGED')\n",
    "\n",
    "for bar in bars:\n",
    "    height = bar.get_height()\n",
    "    plt.text(\n",
    "        bar.get_x() + bar.get_width()/2.0, \n",
    "        height + 0.2, \n",
    "        f'{int(height)}', \n",
    "        ha='center', \n",
    "        va='bottom',\n",
    "        fontsize=9  # Ajuste o tamanho da fonte aqui\n",
    "    )\n",
    "\n",
    "plt.bar(x + 0.25, setores_bar_last.values, width=0.12, color='dimgrey', label='CAGED do mês anterior')\n",
    "\n",
    "plt.title('CAGED - Análise dos setores', fontsize=16)\n",
    "plt.ylabel('Saldo', fontsize=14)\n",
    "plt.ylim(-10000,120000)\n",
    "\n",
    "plt.xticks(x + 0.225, nomes, rotation=0, fontsize = 10)\n",
    "\n",
    "plt.legend()\n",
    "\n",
    "plt.gca().spines['top'].set_visible(False)\n",
    "plt.gca().spines['right'].set_visible(False)\n",
    "\n",
    "plt.show()"
   ]
  }
 ],
 "metadata": {
  "interpreter": {
   "hash": "39e7a832443efa2cd0020d61b94f02b912a2efc1bc2f54f0cb3f222677c72b26"
  },
  "kernelspec": {
   "display_name": "Python 3.7.16 ('riobravo_env1')",
   "language": "python",
   "name": "python3"
  },
  "language_info": {
   "codemirror_mode": {
    "name": "ipython",
    "version": 3
   },
   "file_extension": ".py",
   "mimetype": "text/x-python",
   "name": "python",
   "nbconvert_exporter": "python",
   "pygments_lexer": "ipython3",
   "version": "3.7.16"
  },
  "orig_nbformat": 4
 },
 "nbformat": 4,
 "nbformat_minor": 2
}
